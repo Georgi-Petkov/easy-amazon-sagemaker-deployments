{
 "cells": [
  {
   "cell_type": "markdown",
   "metadata": {},
   "source": [
    "## Train a model locally or remote"
   ]
  },
  {
   "cell_type": "code",
   "execution_count": 15,
   "metadata": {},
   "outputs": [
    {
     "name": "stdout",
     "output_type": "stream",
     "text": [
      "Collecting sagemaker==1.60.2\n",
      "  Downloading sagemaker-1.60.2.tar.gz (290 kB)\n",
      "\u001b[K     |████████████████████████████████| 290 kB 39.8 MB/s eta 0:00:01\n",
      "\u001b[?25hRequirement already satisfied, skipping upgrade: boto3>=1.13.6 in /home/ec2-user/anaconda3/envs/python3/lib/python3.6/site-packages (from sagemaker==1.60.2) (1.13.11)\n",
      "Requirement already satisfied, skipping upgrade: numpy>=1.9.0 in /home/ec2-user/anaconda3/envs/python3/lib/python3.6/site-packages (from sagemaker==1.60.2) (1.18.4)\n",
      "Requirement already satisfied, skipping upgrade: protobuf>=3.1 in /home/ec2-user/anaconda3/envs/python3/lib/python3.6/site-packages (from sagemaker==1.60.2) (3.12.0)\n",
      "Requirement already satisfied, skipping upgrade: scipy>=0.19.0 in /home/ec2-user/anaconda3/envs/python3/lib/python3.6/site-packages (from sagemaker==1.60.2) (1.4.1)\n",
      "Requirement already satisfied, skipping upgrade: protobuf3-to-dict>=0.1.5 in /home/ec2-user/anaconda3/envs/python3/lib/python3.6/site-packages (from sagemaker==1.60.2) (0.1.5)\n",
      "Requirement already satisfied, skipping upgrade: smdebug-rulesconfig==0.1.2 in /home/ec2-user/anaconda3/envs/python3/lib/python3.6/site-packages (from sagemaker==1.60.2) (0.1.2)\n",
      "Requirement already satisfied, skipping upgrade: importlib-metadata>=1.4.0 in /home/ec2-user/anaconda3/envs/python3/lib/python3.6/site-packages (from sagemaker==1.60.2) (1.6.0)\n",
      "Requirement already satisfied, skipping upgrade: packaging>=20.0 in /home/ec2-user/anaconda3/envs/python3/lib/python3.6/site-packages (from sagemaker==1.60.2) (20.3)\n",
      "Requirement already satisfied, skipping upgrade: s3transfer<0.4.0,>=0.3.0 in /home/ec2-user/anaconda3/envs/python3/lib/python3.6/site-packages (from boto3>=1.13.6->sagemaker==1.60.2) (0.3.3)\n",
      "Requirement already satisfied, skipping upgrade: botocore<1.17.0,>=1.16.11 in /home/ec2-user/anaconda3/envs/python3/lib/python3.6/site-packages (from boto3>=1.13.6->sagemaker==1.60.2) (1.16.11)\n",
      "Requirement already satisfied, skipping upgrade: jmespath<1.0.0,>=0.7.1 in /home/ec2-user/anaconda3/envs/python3/lib/python3.6/site-packages (from boto3>=1.13.6->sagemaker==1.60.2) (0.10.0)\n",
      "Requirement already satisfied, skipping upgrade: six>=1.9 in /home/ec2-user/anaconda3/envs/python3/lib/python3.6/site-packages (from protobuf>=3.1->sagemaker==1.60.2) (1.14.0)\n",
      "Requirement already satisfied, skipping upgrade: setuptools in /home/ec2-user/.local/lib/python3.6/site-packages (from protobuf>=3.1->sagemaker==1.60.2) (46.1.3)\n",
      "Requirement already satisfied, skipping upgrade: zipp>=0.5 in /home/ec2-user/anaconda3/envs/python3/lib/python3.6/site-packages (from importlib-metadata>=1.4.0->sagemaker==1.60.2) (3.1.0)\n",
      "Requirement already satisfied, skipping upgrade: pyparsing>=2.0.2 in /home/ec2-user/anaconda3/envs/python3/lib/python3.6/site-packages (from packaging>=20.0->sagemaker==1.60.2) (2.4.7)\n",
      "Requirement already satisfied, skipping upgrade: docutils<0.16,>=0.10 in /home/ec2-user/anaconda3/envs/python3/lib/python3.6/site-packages (from botocore<1.17.0,>=1.16.11->boto3>=1.13.6->sagemaker==1.60.2) (0.15.2)\n",
      "Requirement already satisfied, skipping upgrade: python-dateutil<3.0.0,>=2.1 in /home/ec2-user/anaconda3/envs/python3/lib/python3.6/site-packages (from botocore<1.17.0,>=1.16.11->boto3>=1.13.6->sagemaker==1.60.2) (2.8.1)\n",
      "Requirement already satisfied, skipping upgrade: urllib3<1.26,>=1.20; python_version != \"3.4\" in /home/ec2-user/anaconda3/envs/python3/lib/python3.6/site-packages (from botocore<1.17.0,>=1.16.11->boto3>=1.13.6->sagemaker==1.60.2) (1.25.9)\n",
      "Building wheels for collected packages: sagemaker\n",
      "  Building wheel for sagemaker (setup.py) ... \u001b[?25ldone\n",
      "\u001b[?25h  Created wheel for sagemaker: filename=sagemaker-1.60.2-py2.py3-none-any.whl size=392361 sha256=e0b80479a4ef011b58a1b085fa699694488cca0206e8b97fa72f71fe0700505d\n",
      "  Stored in directory: /home/ec2-user/.cache/pip/wheels/af/35/94/2bb2d2638a2be23d1a1ab9bff1040f96dc76ef0086dd52da77\n",
      "Successfully built sagemaker\n",
      "Installing collected packages: sagemaker\n",
      "  Attempting uninstall: sagemaker\n",
      "    Found existing installation: sagemaker 1.58.2\n",
      "    Uninstalling sagemaker-1.58.2:\n",
      "      Successfully uninstalled sagemaker-1.58.2\n",
      "Successfully installed sagemaker-1.60.2\n",
      "\u001b[33mWARNING: You are using pip version 20.1; however, version 20.1.1 is available.\n",
      "You should consider upgrading via the '/home/ec2-user/anaconda3/envs/python3/bin/python -m pip install --upgrade pip' command.\u001b[0m\n"
     ]
    }
   ],
   "source": [
    "!pip install --upgrade sagemaker==1.60.2"
   ]
  },
  {
   "cell_type": "code",
   "execution_count": 16,
   "metadata": {},
   "outputs": [
    {
     "data": {
      "text/plain": [
       "array([8])"
      ]
     },
     "execution_count": 16,
     "metadata": {},
     "output_type": "execute_result"
    }
   ],
   "source": [
    "from sklearn import datasets, svm\n",
    "digits = datasets.load_digits()\n",
    "clf = svm.SVC(gamma=0.001, C=100.,probability=True)\n",
    "clf.fit(digits.data[:-1], digits.target[:-1])\n",
    "clf.predict(digits.data[-1:])"
   ]
  },
  {
   "cell_type": "code",
   "execution_count": 17,
   "metadata": {},
   "outputs": [
    {
     "name": "stdout",
     "output_type": "stream",
     "text": [
      "Name: scikit-learn\r\n",
      "Version: 0.22.2\r\n",
      "Summary: A set of python modules for machine learning and data mining\r\n",
      "Home-page: http://scikit-learn.org\r\n",
      "Author: None\r\n",
      "Author-email: None\r\n",
      "License: new BSD\r\n",
      "Location: /home/ec2-user/anaconda3/envs/python3/lib/python3.6/site-packages\r\n",
      "Requires: numpy, joblib, scipy\r\n",
      "Required-by: sklearn, scikit-optimize, mleap, lightgbm, autogluon\r\n"
     ]
    }
   ],
   "source": [
    "!pip show scikit-learn"
   ]
  },
  {
   "cell_type": "markdown",
   "metadata": {},
   "source": [
    "### Save model file"
   ]
  },
  {
   "cell_type": "code",
   "execution_count": 18,
   "metadata": {},
   "outputs": [
    {
     "data": {
      "text/plain": [
       "['model.joblib']"
      ]
     },
     "execution_count": 18,
     "metadata": {},
     "output_type": "execute_result"
    }
   ],
   "source": [
    "from joblib import dump\n",
    "dump(clf, 'model.joblib')"
   ]
  },
  {
   "cell_type": "markdown",
   "metadata": {},
   "source": [
    "## Step 1 : Write a model transform script\n",
    "\n",
    "#### Make sure you have a ...\n",
    "\n",
    "- \"load_model\" function\n",
    "    - input args are model path\n",
    "    - returns loaded model object\n",
    "    - model name is the same as what you saved the model file as (see above step)\n",
    "<br><br>\n",
    "- \"predict\" function\n",
    "    - input args are the loaded model object and a payload\n",
    "    - returns the result of model.predict\n",
    "    - make sure you format it as a single (or multiple) string return inside a list for real time (for mini batch)\n",
    "    - from a client, a list  or string or np.array that is sent for prediction is interpreted as bytes. Do what you have to for converting back to list or string or np.array\n",
    "    - return the error for debugging\n"
   ]
  },
  {
   "cell_type": "code",
   "execution_count": 19,
   "metadata": {},
   "outputs": [
    {
     "name": "stdout",
     "output_type": "stream",
     "text": [
      "Overwriting modelscript_sklearn.py\n"
     ]
    }
   ],
   "source": [
    "%%writefile modelscript_sklearn.py\n",
    "import sklearn\n",
    "from joblib import load\n",
    "import numpy as np\n",
    "import os\n",
    "\n",
    "#Return loaded model\n",
    "def load_model(modelpath):\n",
    "    print(modelpath)\n",
    "    clf = load(os.path.join(modelpath,'model.joblib'))\n",
    "    print(\"loaded\")\n",
    "    return clf\n",
    "\n",
    "# return prediction based on loaded model (from the step above) and an input payload\n",
    "def predict(model, payload):\n",
    "    try:\n",
    "        # locally, payload may come in as an np.ndarray\n",
    "        if type(payload)==np.ndarray:\n",
    "            out = [str(model.predict(np.frombuffer(payload).reshape((1,64))))]\n",
    "        # in remote / container based deployment, payload comes in as a stream of bytes\n",
    "        else:\n",
    "            out = [str(model.predict(np.frombuffer(payload[0]['body']).reshape((1,64))))]\n",
    "    except Exception as e:\n",
    "        out = [type(payload),str(e)] #useful for debugging!\n",
    "    \n",
    "    return out"
   ]
  },
  {
   "cell_type": "markdown",
   "metadata": {},
   "source": [
    "## Does this work locally? (not \"_in a container locally_\", but _actually_ in local)"
   ]
  },
  {
   "cell_type": "code",
   "execution_count": 20,
   "metadata": {},
   "outputs": [
    {
     "name": "stdout",
     "output_type": "stream",
     "text": [
      ".\n",
      "loaded\n"
     ]
    }
   ],
   "source": [
    "from modelscript_sklearn import *\n",
    "model = load_model('.')"
   ]
  },
  {
   "cell_type": "code",
   "execution_count": 21,
   "metadata": {},
   "outputs": [
    {
     "data": {
      "text/plain": [
       "'[8]'"
      ]
     },
     "execution_count": 21,
     "metadata": {},
     "output_type": "execute_result"
    }
   ],
   "source": [
    "predict(model,digits.data[-1:])[0]"
   ]
  },
  {
   "cell_type": "markdown",
   "metadata": {},
   "source": [
    "### ok great! Now let's install ezsmdeploy"
   ]
  },
  {
   "cell_type": "code",
   "execution_count": 23,
   "metadata": {},
   "outputs": [
    {
     "name": "stdout",
     "output_type": "stream",
     "text": [
      "Collecting ezsmdeploy==0.2.8\n",
      "  Downloading ezsmdeploy-0.2.8-py3-none-any.whl (23 kB)\n",
      "Processing /home/ec2-user/.cache/pip/wheels/08/75/84/62b3bde8befd85b487082ff95834d0357efbd5ae73408b2ed7/sagemaker-1.58.2-py2.py3-none-any.whl\n",
      "Requirement already satisfied: yaspin==0.16.0 in /home/ec2-user/anaconda3/envs/python3/lib/python3.6/site-packages (from ezsmdeploy==0.2.8) (0.16.0)\n",
      "Requirement already satisfied: shortuuid==1.0.1 in /home/ec2-user/anaconda3/envs/python3/lib/python3.6/site-packages (from ezsmdeploy==0.2.8) (1.0.1)\n",
      "Requirement already satisfied: protobuf>=3.1 in /home/ec2-user/anaconda3/envs/python3/lib/python3.6/site-packages (from sagemaker==1.58.2->ezsmdeploy==0.2.8) (3.12.0)\n",
      "Requirement already satisfied: boto3>=1.13.6 in /home/ec2-user/anaconda3/envs/python3/lib/python3.6/site-packages (from sagemaker==1.58.2->ezsmdeploy==0.2.8) (1.13.11)\n",
      "Requirement already satisfied: scipy>=0.19.0 in /home/ec2-user/anaconda3/envs/python3/lib/python3.6/site-packages (from sagemaker==1.58.2->ezsmdeploy==0.2.8) (1.4.1)\n",
      "Requirement already satisfied: smdebug-rulesconfig==0.1.2 in /home/ec2-user/anaconda3/envs/python3/lib/python3.6/site-packages (from sagemaker==1.58.2->ezsmdeploy==0.2.8) (0.1.2)\n",
      "Requirement already satisfied: importlib-metadata>=1.4.0 in /home/ec2-user/anaconda3/envs/python3/lib/python3.6/site-packages (from sagemaker==1.58.2->ezsmdeploy==0.2.8) (1.6.0)\n",
      "Requirement already satisfied: packaging>=20.0 in /home/ec2-user/anaconda3/envs/python3/lib/python3.6/site-packages (from sagemaker==1.58.2->ezsmdeploy==0.2.8) (20.3)\n",
      "Requirement already satisfied: protobuf3-to-dict>=0.1.5 in /home/ec2-user/anaconda3/envs/python3/lib/python3.6/site-packages (from sagemaker==1.58.2->ezsmdeploy==0.2.8) (0.1.5)\n",
      "Requirement already satisfied: numpy>=1.9.0 in /home/ec2-user/anaconda3/envs/python3/lib/python3.6/site-packages (from sagemaker==1.58.2->ezsmdeploy==0.2.8) (1.18.4)\n",
      "Requirement already satisfied: setuptools in /home/ec2-user/.local/lib/python3.6/site-packages (from protobuf>=3.1->sagemaker==1.58.2->ezsmdeploy==0.2.8) (46.1.3)\n",
      "Requirement already satisfied: six>=1.9 in /home/ec2-user/anaconda3/envs/python3/lib/python3.6/site-packages (from protobuf>=3.1->sagemaker==1.58.2->ezsmdeploy==0.2.8) (1.14.0)\n",
      "Requirement already satisfied: jmespath<1.0.0,>=0.7.1 in /home/ec2-user/anaconda3/envs/python3/lib/python3.6/site-packages (from boto3>=1.13.6->sagemaker==1.58.2->ezsmdeploy==0.2.8) (0.10.0)\n",
      "Requirement already satisfied: s3transfer<0.4.0,>=0.3.0 in /home/ec2-user/anaconda3/envs/python3/lib/python3.6/site-packages (from boto3>=1.13.6->sagemaker==1.58.2->ezsmdeploy==0.2.8) (0.3.3)\n",
      "Requirement already satisfied: botocore<1.17.0,>=1.16.11 in /home/ec2-user/anaconda3/envs/python3/lib/python3.6/site-packages (from boto3>=1.13.6->sagemaker==1.58.2->ezsmdeploy==0.2.8) (1.16.11)\n",
      "Requirement already satisfied: zipp>=0.5 in /home/ec2-user/anaconda3/envs/python3/lib/python3.6/site-packages (from importlib-metadata>=1.4.0->sagemaker==1.58.2->ezsmdeploy==0.2.8) (3.1.0)\n",
      "Requirement already satisfied: pyparsing>=2.0.2 in /home/ec2-user/anaconda3/envs/python3/lib/python3.6/site-packages (from packaging>=20.0->sagemaker==1.58.2->ezsmdeploy==0.2.8) (2.4.7)\n",
      "Requirement already satisfied: docutils<0.16,>=0.10 in /home/ec2-user/anaconda3/envs/python3/lib/python3.6/site-packages (from botocore<1.17.0,>=1.16.11->boto3>=1.13.6->sagemaker==1.58.2->ezsmdeploy==0.2.8) (0.15.2)\n",
      "Requirement already satisfied: python-dateutil<3.0.0,>=2.1 in /home/ec2-user/anaconda3/envs/python3/lib/python3.6/site-packages (from botocore<1.17.0,>=1.16.11->boto3>=1.13.6->sagemaker==1.58.2->ezsmdeploy==0.2.8) (2.8.1)\n",
      "Requirement already satisfied: urllib3<1.26,>=1.20; python_version != \"3.4\" in /home/ec2-user/anaconda3/envs/python3/lib/python3.6/site-packages (from botocore<1.17.0,>=1.16.11->boto3>=1.13.6->sagemaker==1.58.2->ezsmdeploy==0.2.8) (1.25.9)\n",
      "Installing collected packages: sagemaker, ezsmdeploy\n",
      "  Attempting uninstall: sagemaker\n",
      "    Found existing installation: sagemaker 1.60.2\n",
      "    Uninstalling sagemaker-1.60.2:\n",
      "      Successfully uninstalled sagemaker-1.60.2\n",
      "  Attempting uninstall: ezsmdeploy\n",
      "    Found existing installation: ezsmdeploy 0.2.6\n",
      "    Uninstalling ezsmdeploy-0.2.6:\n",
      "      Successfully uninstalled ezsmdeploy-0.2.6\n",
      "Successfully installed ezsmdeploy-0.2.8 sagemaker-1.58.2\n",
      "\u001b[33mWARNING: You are using pip version 20.1; however, version 20.1.1 is available.\n",
      "You should consider upgrading via the '/home/ec2-user/anaconda3/envs/python3/bin/python -m pip install --upgrade pip' command.\u001b[0m\n"
     ]
    }
   ],
   "source": [
    "!pip install ezsmdeploy==0.2.8"
   ]
  },
  {
   "cell_type": "code",
   "execution_count": 27,
   "metadata": {},
   "outputs": [
    {
     "name": "stdout",
     "output_type": "stream",
     "text": [
      "Processing /home/ec2-user/.cache/pip/wheels/af/35/94/2bb2d2638a2be23d1a1ab9bff1040f96dc76ef0086dd52da77/sagemaker-1.60.2-py2.py3-none-any.whl\n",
      "Requirement already satisfied, skipping upgrade: numpy>=1.9.0 in /home/ec2-user/anaconda3/envs/python3/lib/python3.6/site-packages (from sagemaker==1.60.2) (1.18.4)\n",
      "Requirement already satisfied, skipping upgrade: protobuf3-to-dict>=0.1.5 in /home/ec2-user/anaconda3/envs/python3/lib/python3.6/site-packages (from sagemaker==1.60.2) (0.1.5)\n",
      "Requirement already satisfied, skipping upgrade: importlib-metadata>=1.4.0 in /home/ec2-user/anaconda3/envs/python3/lib/python3.6/site-packages (from sagemaker==1.60.2) (1.6.0)\n",
      "Requirement already satisfied, skipping upgrade: smdebug-rulesconfig==0.1.2 in /home/ec2-user/anaconda3/envs/python3/lib/python3.6/site-packages (from sagemaker==1.60.2) (0.1.2)\n",
      "Requirement already satisfied, skipping upgrade: boto3>=1.13.6 in /home/ec2-user/anaconda3/envs/python3/lib/python3.6/site-packages (from sagemaker==1.60.2) (1.13.11)\n",
      "Requirement already satisfied, skipping upgrade: protobuf>=3.1 in /home/ec2-user/anaconda3/envs/python3/lib/python3.6/site-packages (from sagemaker==1.60.2) (3.12.0)\n",
      "Requirement already satisfied, skipping upgrade: packaging>=20.0 in /home/ec2-user/anaconda3/envs/python3/lib/python3.6/site-packages (from sagemaker==1.60.2) (20.3)\n",
      "Requirement already satisfied, skipping upgrade: scipy>=0.19.0 in /home/ec2-user/anaconda3/envs/python3/lib/python3.6/site-packages (from sagemaker==1.60.2) (1.4.1)\n",
      "Requirement already satisfied, skipping upgrade: six in /home/ec2-user/anaconda3/envs/python3/lib/python3.6/site-packages (from protobuf3-to-dict>=0.1.5->sagemaker==1.60.2) (1.14.0)\n",
      "Requirement already satisfied, skipping upgrade: zipp>=0.5 in /home/ec2-user/anaconda3/envs/python3/lib/python3.6/site-packages (from importlib-metadata>=1.4.0->sagemaker==1.60.2) (3.1.0)\n",
      "Requirement already satisfied, skipping upgrade: s3transfer<0.4.0,>=0.3.0 in /home/ec2-user/anaconda3/envs/python3/lib/python3.6/site-packages (from boto3>=1.13.6->sagemaker==1.60.2) (0.3.3)\n",
      "Requirement already satisfied, skipping upgrade: botocore<1.17.0,>=1.16.11 in /home/ec2-user/anaconda3/envs/python3/lib/python3.6/site-packages (from boto3>=1.13.6->sagemaker==1.60.2) (1.16.11)\n",
      "Requirement already satisfied, skipping upgrade: jmespath<1.0.0,>=0.7.1 in /home/ec2-user/anaconda3/envs/python3/lib/python3.6/site-packages (from boto3>=1.13.6->sagemaker==1.60.2) (0.10.0)\n",
      "Requirement already satisfied, skipping upgrade: setuptools in /home/ec2-user/.local/lib/python3.6/site-packages (from protobuf>=3.1->sagemaker==1.60.2) (46.1.3)\n",
      "Requirement already satisfied, skipping upgrade: pyparsing>=2.0.2 in /home/ec2-user/anaconda3/envs/python3/lib/python3.6/site-packages (from packaging>=20.0->sagemaker==1.60.2) (2.4.7)\n",
      "Requirement already satisfied, skipping upgrade: urllib3<1.26,>=1.20; python_version != \"3.4\" in /home/ec2-user/anaconda3/envs/python3/lib/python3.6/site-packages (from botocore<1.17.0,>=1.16.11->boto3>=1.13.6->sagemaker==1.60.2) (1.25.9)\n",
      "Requirement already satisfied, skipping upgrade: python-dateutil<3.0.0,>=2.1 in /home/ec2-user/anaconda3/envs/python3/lib/python3.6/site-packages (from botocore<1.17.0,>=1.16.11->boto3>=1.13.6->sagemaker==1.60.2) (2.8.1)\n",
      "Requirement already satisfied, skipping upgrade: docutils<0.16,>=0.10 in /home/ec2-user/anaconda3/envs/python3/lib/python3.6/site-packages (from botocore<1.17.0,>=1.16.11->boto3>=1.13.6->sagemaker==1.60.2) (0.15.2)\n",
      "\u001b[31mERROR: ezsmdeploy 0.2.8 has requirement sagemaker==1.58.2, but you'll have sagemaker 1.60.2 which is incompatible.\u001b[0m\n",
      "Installing collected packages: sagemaker\n",
      "  Attempting uninstall: sagemaker\n",
      "    Found existing installation: sagemaker 1.58.2\n",
      "    Uninstalling sagemaker-1.58.2:\n",
      "      Successfully uninstalled sagemaker-1.58.2\n",
      "Successfully installed sagemaker-1.60.2\n",
      "\u001b[33mWARNING: You are using pip version 20.1; however, version 20.1.1 is available.\n",
      "You should consider upgrading via the '/home/ec2-user/anaconda3/envs/python3/bin/python -m pip install --upgrade pip' command.\u001b[0m\n"
     ]
    }
   ],
   "source": [
    "!pip install --upgrade sagemaker==1.60.2"
   ]
  },
  {
   "cell_type": "code",
   "execution_count": 28,
   "metadata": {},
   "outputs": [],
   "source": [
    "import ezsmdeploy"
   ]
  },
  {
   "cell_type": "markdown",
   "metadata": {},
   "source": [
    "#### If you have been running other inference containers in local mode, stop existing containers to avoid conflict"
   ]
  },
  {
   "cell_type": "code",
   "execution_count": 29,
   "metadata": {},
   "outputs": [
    {
     "name": "stdout",
     "output_type": "stream",
     "text": [
      "\u001b[36mtmpwku_48_g_algo-1-xog72_1 exited with code 137\n",
      "\u001b[0mAborting on container exit...\n"
     ]
    },
    {
     "name": "stderr",
     "output_type": "stream",
     "text": [
      "Exception in thread Thread-8:\n",
      "Traceback (most recent call last):\n",
      "  File \"/home/ec2-user/anaconda3/envs/python3/lib/python3.6/site-packages/sagemaker/local/image.py\", line 618, in run\n",
      "    _stream_output(self.process)\n",
      "  File \"/home/ec2-user/anaconda3/envs/python3/lib/python3.6/site-packages/sagemaker/local/image.py\", line 677, in _stream_output\n",
      "    raise RuntimeError(\"Process exited with code: %s\" % exit_code)\n",
      "RuntimeError: Process exited with code: 137\n",
      "\n",
      "During handling of the above exception, another exception occurred:\n",
      "\n",
      "Traceback (most recent call last):\n",
      "  File \"/home/ec2-user/anaconda3/envs/python3/lib/python3.6/threading.py\", line 916, in _bootstrap_inner\n",
      "    self.run()\n",
      "  File \"/home/ec2-user/anaconda3/envs/python3/lib/python3.6/site-packages/sagemaker/local/image.py\", line 623, in run\n",
      "    raise RuntimeError(msg)\n",
      "RuntimeError: Failed to run: ['docker-compose', '-f', '/tmp/tmpwku_48_g/docker-compose.yaml', 'up', '--build', '--abort-on-container-exit'], Process exited with code: 137\n",
      "\n"
     ]
    }
   ],
   "source": [
    "!docker container stop $(docker container ls -aq) >/dev/null"
   ]
  },
  {
   "cell_type": "markdown",
   "metadata": {},
   "source": [
    "## Deploy locally"
   ]
  },
  {
   "cell_type": "code",
   "execution_count": 30,
   "metadata": {},
   "outputs": [
    {
     "name": "stdout",
     "output_type": "stream",
     "text": [
      "\u001b[K0:00:00.176737 | compressed model(s)\n",
      "\u001b[K0:00:00.270110 | uploaded model tarball(s) ; check returned modelpath\n",
      "\u001b[K0:00:00.270951 | added requirements file\n",
      "\u001b[K0:00:00.272734 | added source file\n",
      "\u001b[K0:00:00.274217 | added Dockerfile\n",
      "\u001b[K0:00:00.275844 | added model_handler and docker utils\n",
      "\u001b[K0:00:00.275934 | building docker container\n",
      "\u001b[K0:00:32.966161 | built docker container\n",
      "\u001b[K0:00:33.262990 | created model(s). Now deploying on local\n",
      "\u001b[32m∙∙∙\u001b[0m \u001b[KAttaching to tmpxsoj8tbp_algo-1-egc7w_1\n",
      "\u001b[36malgo-1-egc7w_1  |\u001b[0m Warning: Calling MMS with mxnet-model-server. Please move to multi-model-server.\n",
      "\u001b[32m∙∙●\u001b[0m \u001b[K\u001b[36malgo-1-egc7w_1  |\u001b[0m 2020-05-29 22:25:34,636 [INFO ] main com.amazonaws.ml.mms.ModelServer - \n",
      "\u001b[36malgo-1-egc7w_1  |\u001b[0m MMS Home: /usr/local/lib/python3.5/dist-packages\n",
      "\u001b[36malgo-1-egc7w_1  |\u001b[0m Current directory: /\n",
      "\u001b[36malgo-1-egc7w_1  |\u001b[0m Temp directory: /tmp\n",
      "\u001b[36malgo-1-egc7w_1  |\u001b[0m Number of GPUs: 0\n",
      "\u001b[36malgo-1-egc7w_1  |\u001b[0m Number of CPUs: 32\n",
      "\u001b[36malgo-1-egc7w_1  |\u001b[0m Max heap size: 27305 M\n",
      "\u001b[36malgo-1-egc7w_1  |\u001b[0m Python executable: /usr/bin/python3\n",
      "\u001b[36malgo-1-egc7w_1  |\u001b[0m Config file: /etc/sagemaker-mms.properties\n",
      "\u001b[36malgo-1-egc7w_1  |\u001b[0m Inference address: http://0.0.0.0:8080\n",
      "\u001b[36malgo-1-egc7w_1  |\u001b[0m Management address: http://0.0.0.0:8080\n",
      "\u001b[36malgo-1-egc7w_1  |\u001b[0m Model Store: /.sagemaker/mms/models\n",
      "\u001b[36malgo-1-egc7w_1  |\u001b[0m Initial Models: ALL\n",
      "\u001b[36malgo-1-egc7w_1  |\u001b[0m Log dir: /logs\n",
      "\u001b[36malgo-1-egc7w_1  |\u001b[0m Metrics dir: /logs\n",
      "\u001b[36malgo-1-egc7w_1  |\u001b[0m Netty threads: 0\n",
      "\u001b[36malgo-1-egc7w_1  |\u001b[0m Netty client threads: 0\n",
      "\u001b[36malgo-1-egc7w_1  |\u001b[0m Default workers per model: 2\n",
      "\u001b[36malgo-1-egc7w_1  |\u001b[0m Blacklist Regex: N/A\n",
      "\u001b[36malgo-1-egc7w_1  |\u001b[0m Maximum Response Size: 6553500\n",
      "\u001b[36malgo-1-egc7w_1  |\u001b[0m Maximum Request Size: 6553500\n",
      "\u001b[36malgo-1-egc7w_1  |\u001b[0m Preload model: false\n",
      "\u001b[36malgo-1-egc7w_1  |\u001b[0m Prefer direct buffer: false\n",
      "\u001b[36malgo-1-egc7w_1  |\u001b[0m 2020-05-29 22:25:34,712 [WARN ] W-9000-model com.amazonaws.ml.mms.wlm.WorkerLifeCycle - attachIOStreams() threadName=W-9000-model\n",
      "\u001b[32m∙∙∙\u001b[0m \u001b[K\u001b[36malgo-1-egc7w_1  |\u001b[0m 2020-05-29 22:25:34,809 [INFO ] W-9000-model-stdout com.amazonaws.ml.mms.wlm.WorkerLifeCycle - model_service_worker started with args: --sock-type unix --sock-name /tmp/.mms.sock.9000 --handler /home/model-server/model_handler.py:handle --model-path /.sagemaker/mms/models/model --model-name model --preload-model false --tmp-dir /tmp\n",
      "\u001b[36malgo-1-egc7w_1  |\u001b[0m 2020-05-29 22:25:34,810 [INFO ] W-9000-model-stdout com.amazonaws.ml.mms.wlm.WorkerLifeCycle - Listening on port: /tmp/.mms.sock.9000\n",
      "\u001b[36malgo-1-egc7w_1  |\u001b[0m 2020-05-29 22:25:34,810 [INFO ] W-9000-model-stdout com.amazonaws.ml.mms.wlm.WorkerLifeCycle - [PID] 87\n",
      "\u001b[36malgo-1-egc7w_1  |\u001b[0m 2020-05-29 22:25:34,810 [INFO ] W-9000-model-stdout com.amazonaws.ml.mms.wlm.WorkerLifeCycle - MXNet worker started.\n",
      "\u001b[36malgo-1-egc7w_1  |\u001b[0m 2020-05-29 22:25:34,811 [INFO ] W-9000-model-stdout com.amazonaws.ml.mms.wlm.WorkerLifeCycle - Python runtime: 3.5.2\n",
      "\u001b[36malgo-1-egc7w_1  |\u001b[0m 2020-05-29 22:25:34,811 [INFO ] main com.amazonaws.ml.mms.wlm.ModelManager - Model model loaded.\n",
      "\u001b[36malgo-1-egc7w_1  |\u001b[0m 2020-05-29 22:25:34,815 [INFO ] main com.amazonaws.ml.mms.ModelServer - Initialize Inference server with: EpollServerSocketChannel.\n",
      "\u001b[36malgo-1-egc7w_1  |\u001b[0m 2020-05-29 22:25:34,818 [INFO ] W-9000-model com.amazonaws.ml.mms.wlm.WorkerThread - Connecting to: /tmp/.mms.sock.9000\n",
      "\u001b[36malgo-1-egc7w_1  |\u001b[0m 2020-05-29 22:25:34,818 [INFO ] W-9000-model com.amazonaws.ml.mms.wlm.WorkerThread - Connecting to: /tmp/.mms.sock.9000\n",
      "\u001b[32m∙∙∙\u001b[0m \u001b[K\u001b[36malgo-1-egc7w_1  |\u001b[0m 2020-05-29 22:25:34,881 [INFO ] main com.amazonaws.ml.mms.ModelServer - Inference API bind to: http://0.0.0.0:8080\n",
      "\u001b[36malgo-1-egc7w_1  |\u001b[0m Model server started.\n",
      "\u001b[36malgo-1-egc7w_1  |\u001b[0m 2020-05-29 22:25:34,883 [INFO ] W-9000-model-stdout com.amazonaws.ml.mms.wlm.WorkerLifeCycle - Connection accepted: /tmp/.mms.sock.9000.\n",
      "\u001b[36malgo-1-egc7w_1  |\u001b[0m 2020-05-29 22:25:34,885 [INFO ] W-9000-model-stdout com.amazonaws.ml.mms.wlm.WorkerLifeCycle - Connection accepted: /tmp/.mms.sock.9000.\n",
      "\u001b[36malgo-1-egc7w_1  |\u001b[0m 2020-05-29 22:25:34,885 [WARN ] pool-2-thread-1 com.amazonaws.ml.mms.metrics.MetricCollector - worker pid is not available yet.\n",
      "\u001b[32m∙∙●\u001b[0m \u001b[K\u001b[36malgo-1-egc7w_1  |\u001b[0m 2020-05-29 22:25:35,321 [INFO ] W-9000-model-stdout com.amazonaws.ml.mms.wlm.WorkerLifeCycle - /.sagemaker/mms/models/model\n",
      "\u001b[36malgo-1-egc7w_1  |\u001b[0m 2020-05-29 22:25:35,321 [INFO ] W-9000-model-stdout com.amazonaws.ml.mms.wlm.WorkerLifeCycle - loaded\n",
      "\u001b[36malgo-1-egc7w_1  |\u001b[0m 2020-05-29 22:25:35,321 [INFO ] W-9000-model-stdout com.amazonaws.ml.mms.wlm.WorkerLifeCycle - loaded model!\n",
      "\u001b[36malgo-1-egc7w_1  |\u001b[0m 2020-05-29 22:25:35,322 [INFO ] W-9000-model-stdout com.amazonaws.ml.mms.wlm.WorkerLifeCycle - Model model loaded io_fd=0242acfffe1c0002-00000027-00000002-934c703264daae6e-f135094b\n",
      "\u001b[36malgo-1-egc7w_1  |\u001b[0m 2020-05-29 22:25:35,322 [INFO ] W-9000-model-stdout com.amazonaws.ml.mms.wlm.WorkerLifeCycle - /.sagemaker/mms/models/model\n",
      "\u001b[36malgo-1-egc7w_1  |\u001b[0m 2020-05-29 22:25:35,322 [INFO ] W-9000-model-stdout com.amazonaws.ml.mms.wlm.WorkerLifeCycle - loaded\n",
      "\u001b[36malgo-1-egc7w_1  |\u001b[0m 2020-05-29 22:25:35,322 [INFO ] W-9000-model-stdout com.amazonaws.ml.mms.wlm.WorkerLifeCycle - loaded model!\n",
      "\u001b[36malgo-1-egc7w_1  |\u001b[0m 2020-05-29 22:25:35,322 [INFO ] W-9000-model-stdout com.amazonaws.ml.mms.wlm.WorkerLifeCycle - Model model loaded io_fd=0242acfffe1c0002-00000027-00000000-be4fb03264daae6e-cf06d2d8\n",
      "\u001b[36malgo-1-egc7w_1  |\u001b[0m 2020-05-29 22:25:35,325 [INFO ] W-9000-model com.amazonaws.ml.mms.wlm.WorkerThread - Backend response time: 398\n",
      "\u001b[36malgo-1-egc7w_1  |\u001b[0m 2020-05-29 22:25:35,325 [INFO ] W-9000-model com.amazonaws.ml.mms.wlm.WorkerThread - Backend response time: 398\n",
      "\u001b[36malgo-1-egc7w_1  |\u001b[0m 2020-05-29 22:25:35,327 [WARN ] W-9000-model com.amazonaws.ml.mms.wlm.WorkerLifeCycle - attachIOStreams() threadName=W-model-1\n",
      "\u001b[36malgo-1-egc7w_1  |\u001b[0m 2020-05-29 22:25:35,327 [WARN ] W-9000-model com.amazonaws.ml.mms.wlm.WorkerLifeCycle - attachIOStreams() threadName=W-model-2\n",
      "\u001b[32m●∙∙\u001b[0m \u001b[K\u001b[36malgo-1-egc7w_1  |\u001b[0m 2020-05-29 22:25:37,520 [INFO ] pool-1-thread-4 ACCESS_LOG - /172.28.0.1:53022 \"GET /ping HTTP/1.1\" 200 10\n",
      "\u001b[K0:00:38.637300 | deployed model\n",
      "\u001b[K0:00:38.637925 | not setting up autoscaling; deploying locally\n",
      "\u001b[K\u001b[32m0:00:38.638099 | Done! ✔\u001b[0m \n"
     ]
    }
   ],
   "source": [
    "ez = ezsmdeploy.Deploy(model = ['model.joblib'], # if you intend to add models later, pass model as list, otherwise str\n",
    "                  script = 'modelscript_sklearn.py',\n",
    "                  requirements = ['pyarrow','scikit-learn==0.22.1','numpy','joblib'], #or pass in the path to requirements.txt\n",
    "                  instance_type = 'local',\n",
    "                  autoscale = True,\n",
    "                  #framework = 'sklearn', # not required if you provide requirements\n",
    "                  wait = True)"
   ]
  },
  {
   "cell_type": "markdown",
   "metadata": {},
   "source": [
    "## Test containerized version locally"
   ]
  },
  {
   "cell_type": "code",
   "execution_count": 31,
   "metadata": {},
   "outputs": [
    {
     "name": "stdout",
     "output_type": "stream",
     "text": [
      "\u001b[36malgo-1-egc7w_1  |\u001b[0m 2020-05-29 22:28:32,384 [INFO ] W-9000-model com.amazonaws.ml.mms.wlm.WorkerThread - Backend response time: 2\r\n",
      "\u001b[36malgo-1-egc7w_1  |\u001b[0m 2020-05-29 22:28:32,384 [INFO ] W-9000-model ACCESS_LOG - /172.28.0.1:53030 \"POST /invocations HTTP/1.1\" 200 5\r\n"
     ]
    },
    {
     "data": {
      "text/plain": [
       "'[8]'"
      ]
     },
     "execution_count": 31,
     "metadata": {},
     "output_type": "execute_result"
    }
   ],
   "source": [
    "out = ez.predictor.predict(digits.data[-1:].tobytes()).decode()\n",
    "out"
   ]
  },
  {
   "cell_type": "code",
   "execution_count": 32,
   "metadata": {},
   "outputs": [
    {
     "name": "stdout",
     "output_type": "stream",
     "text": [
      "\u001b[36mtmpxsoj8tbp_algo-1-egc7w_1 exited with code 137\n",
      "\u001b[0mAborting on container exit...\n"
     ]
    },
    {
     "name": "stderr",
     "output_type": "stream",
     "text": [
      "Exception in thread Thread-10:\n",
      "Traceback (most recent call last):\n",
      "  File \"/home/ec2-user/anaconda3/envs/python3/lib/python3.6/site-packages/sagemaker/local/image.py\", line 618, in run\n",
      "    _stream_output(self.process)\n",
      "  File \"/home/ec2-user/anaconda3/envs/python3/lib/python3.6/site-packages/sagemaker/local/image.py\", line 677, in _stream_output\n",
      "    raise RuntimeError(\"Process exited with code: %s\" % exit_code)\n",
      "RuntimeError: Process exited with code: 137\n",
      "\n",
      "During handling of the above exception, another exception occurred:\n",
      "\n",
      "Traceback (most recent call last):\n",
      "  File \"/home/ec2-user/anaconda3/envs/python3/lib/python3.6/threading.py\", line 916, in _bootstrap_inner\n",
      "    self.run()\n",
      "  File \"/home/ec2-user/anaconda3/envs/python3/lib/python3.6/site-packages/sagemaker/local/image.py\", line 623, in run\n",
      "    raise RuntimeError(msg)\n",
      "RuntimeError: Failed to run: ['docker-compose', '-f', '/tmp/tmpxsoj8tbp/docker-compose.yaml', 'up', '--build', '--abort-on-container-exit'], Process exited with code: 137\n",
      "\n"
     ]
    }
   ],
   "source": [
    "!docker container stop $(docker container ls -aq) >/dev/null"
   ]
  },
  {
   "cell_type": "markdown",
   "metadata": {},
   "source": [
    "## Deploy on SageMaker"
   ]
  },
  {
   "cell_type": "code",
   "execution_count": 33,
   "metadata": {},
   "outputs": [
    {
     "name": "stdout",
     "output_type": "stream",
     "text": [
      "\u001b[K0:00:00.350628 | compressed model(s)\n",
      "\u001b[K0:00:00.618988 | uploaded model tarball(s) ; check returned modelpath\n",
      "\u001b[K0:00:00.620021 | added requirements file\n",
      "\u001b[K0:00:00.622249 | added source file\n",
      "\u001b[K0:00:00.623637 | added Dockerfile\n",
      "\u001b[K0:00:00.625397 | added model_handler and docker utils\n",
      "\u001b[K0:00:00.625486 | building docker container\n",
      "\u001b[K0:00:33.064223 | built docker container\n",
      "\u001b[K0:00:33.553717 | created model(s). Now deploying on ml.m5.xlarge\n",
      "\u001b[K0:08:06.029243 | deployed model\n",
      "\u001b[K0:08:06.030004 | estimated cost is $0.3 per hour\n",
      "\u001b[K\u001b[32m0:08:06.030133 | Done! ✔\u001b[0m \n"
     ]
    }
   ],
   "source": [
    "ezonsm = ezsmdeploy.Deploy(model = ['model.joblib','model.joblib'], # example of multimodel endpoint. \n",
    "                  script = 'modelscript_sklearn.py',\n",
    "                  requirements = ['pyarrow','scikit-learn==0.22.1','numpy','joblib'])"
   ]
  },
  {
   "cell_type": "code",
   "execution_count": 38,
   "metadata": {},
   "outputs": [
    {
     "name": "stdout",
     "output_type": "stream",
     "text": [
      "Building container ezsmdeploy-image-test\n",
      "WARNING! Using --password via the CLI is insecure. Use --password-stdin.\n",
      "WARNING! Your password will be stored unencrypted in /home/ec2-user/.docker/config.json.\n",
      "Configure a credential helper to remove this warning. See\n",
      "https://docs.docker.com/engine/reference/commandline/login/#credentials-store\n",
      "\n",
      "Login Succeeded\n",
      "sha256:1e90a329b3b6b8bdd322f7bdf024703582af5f631baaf9dc0b131b75e6c39ea9\n",
      "The push refers to repository [497456752804.dkr.ecr.us-east-1.amazonaws.com/ezsmdeploy-image-test]\n",
      "\n",
      "\u001b[1B082b50ee: Preparing \n",
      "\u001b[1B3fc4f971: Preparing \n",
      "\u001b[1Bb9920ba1: Preparing \n",
      "\u001b[1Bc6baf017: Preparing \n",
      "\u001b[1B3f2c9c7e: Preparing \n",
      "\u001b[1B976f0b79: Preparing \n",
      "\u001b[1Bada55966: Preparing \n",
      "\u001b[1B188ddb3a: Preparing \n",
      "\u001b[1Bc8dacd6e: Preparing \n",
      "\u001b[1B4b9b657a: Preparing \n",
      "\u001b[1Be85730ff: Preparing \n",
      "\u001b[1Be4aaa54c: Preparing \n",
      "\u001b[1B33376c2f: Preparing \n",
      "\u001b[1B8ea09024: Preparing \n",
      "\u001b[5Be85730ff: Pushed     504MB/494.8MB\u001b[13A\u001b[1K\u001b[K\u001b[14A\u001b[1K\u001b[K\u001b[11A\u001b[1K\u001b[K\u001b[9A\u001b[1K\u001b[K\u001b[9A\u001b[1K\u001b[K\u001b[12A\u001b[1K\u001b[K\u001b[7A\u001b[1K\u001b[K\u001b[7A\u001b[1K\u001b[K\u001b[6A\u001b[1K\u001b[K\u001b[10A\u001b[1K\u001b[K\u001b[10A\u001b[1K\u001b[K\u001b[10A\u001b[1K\u001b[K\u001b[4A\u001b[1K\u001b[K\u001b[6A\u001b[1K\u001b[K\u001b[5A\u001b[1K\u001b[K\u001b[10A\u001b[1K\u001b[K\u001b[8A\u001b[1K\u001b[K\u001b[10A\u001b[1K\u001b[K\u001b[3A\u001b[1K\u001b[K\u001b[8A\u001b[1K\u001b[K\u001b[2A\u001b[1K\u001b[K\u001b[8A\u001b[1K\u001b[K\u001b[3A\u001b[1K\u001b[K\u001b[8A\u001b[1K\u001b[K\u001b[5A\u001b[1K\u001b[K\u001b[8A\u001b[1K\u001b[K\u001b[10A\u001b[1K\u001b[K\u001b[8A\u001b[1K\u001b[K\u001b[10A\u001b[1K\u001b[K\u001b[8A\u001b[1K\u001b[K\u001b[10A\u001b[1K\u001b[K\u001b[5A\u001b[1K\u001b[K\u001b[10A\u001b[1K\u001b[K\u001b[8A\u001b[1K\u001b[K\u001b[5A\u001b[1K\u001b[K\u001b[8A\u001b[1K\u001b[K\u001b[1A\u001b[1K\u001b[K\u001b[K\u001b[8A\u001b[1K\u001b[K\u001b[5A\u001b[1K\u001b[K\u001b[8A\u001b[1K\u001b[K\u001b[10A\u001b[1K\u001b[K\u001b[8A\u001b[1K\u001b[K\u001b[1A\u001b[1K\u001b[K\u001b[5A\u001b[1K\u001b[K\u001b[1A\u001b[1K\u001b[K\u001b[10A\u001b[1K\u001b[K\u001b[10A\u001b[1K\u001b[K\u001b[10A\u001b[1K\u001b[K\u001b[8A\u001b[1K\u001b[K\u001b[10A\u001b[1K\u001b[K\u001b[1A\u001b[1K\u001b[K\u001b[5A\u001b[1K\u001b[K\u001b[10A\u001b[1K\u001b[K\u001b[1A\u001b[1K\u001b[K\u001b[5A\u001b[1K\u001b[K\u001b[5A\u001b[1K\u001b[K\u001b[1A\u001b[1K\u001b[K\u001b[5A\u001b[1K\u001b[K\u001b[8A\u001b[1K\u001b[K\u001b[5A\u001b[1K\u001b[K\u001b[10A\u001b[1K\u001b[K\u001b[1A\u001b[1K\u001b[K\u001b[5A\u001b[1K\u001b[K\u001b[8A\u001b[1K\u001b[K\u001b[5A\u001b[1K\u001b[K\u001b[10A\u001b[1K\u001b[K\u001b[1A\u001b[1K\u001b[K\u001b[5A\u001b[1K\u001b[K\u001b[1A\u001b[1K\u001b[K\u001b[5A\u001b[1K\u001b[K\u001b[1A\u001b[1K\u001b[K\u001b[5A\u001b[1K\u001b[K\u001b[10A\u001b[1K\u001b[K\u001b[5A\u001b[1K\u001b[K\u001b[10A\u001b[1K\u001b[K\u001b[1A\u001b[1K\u001b[K\u001b[5A\u001b[1K\u001b[K\u001b[8A\u001b[1K\u001b[K\u001b[5A\u001b[1K\u001b[K\u001b[10A\u001b[1K\u001b[K\u001b[5A\u001b[1K\u001b[K\u001b[10A\u001b[1K\u001b[K\u001b[5A\u001b[1K\u001b[K\u001b[10A\u001b[1K\u001b[K\u001b[8A\u001b[1K\u001b[K\u001b[10A\u001b[1K\u001b[K\u001b[1A\u001b[1K\u001b[K\u001b[5A\u001b[1K\u001b[K\u001b[8A\u001b[1K\u001b[K\u001b[5A\u001b[1K\u001b[K\u001b[8A\u001b[1K\u001b[K\u001b[10A\u001b[1K\u001b[K\u001b[1A\u001b[1K\u001b[K\u001b[5A\u001b[1K\u001b[K\u001b[8A\u001b[1K\u001b[K\u001b[5A\u001b[1K\u001b[K\u001b[8A\u001b[1K\u001b[K\u001b[5A\u001b[1K\u001b[K\u001b[8A\u001b[1K\u001b[K\u001b[5A\u001b[1K\u001b[K\u001b[8A\u001b[1K\u001b[K\u001b[1A\u001b[1K\u001b[K\u001b[10A\u001b[1K\u001b[K\u001b[8A\u001b[1K\u001b[K\u001b[5A\u001b[1K\u001b[K\u001b[1A\u001b[1K\u001b[K\u001b[5A\u001b[1K\u001b[K\u001b[10A\u001b[1K\u001b[K\u001b[5A\u001b[1K\u001b[K\u001b[1A\u001b[1K\u001b[K\u001b[5A\u001b[1K\u001b[K\u001b[1A\u001b[1K\u001b[K\u001b[5A\u001b[1K\u001b[K\u001b[10A\u001b[1K\u001b[K\u001b[8A\u001b[1K\u001b[K\u001b[10A\u001b[1K\u001b[K\u001b[1A\u001b[1K\u001b[K\u001b[10A\u001b[1K\u001b[K\u001b[1A\u001b[1K\u001b[K\u001b[5A\u001b[1K\u001b[K\u001b[1A\u001b[1K\u001b[K\u001b[5A\u001b[1K\u001b[K\u001b[10A\u001b[1K\u001b[K\u001b[1A\u001b[1K\u001b[K\u001b[10A\u001b[1K\u001b[K\u001b[1A\u001b[1K\u001b[K\u001b[10A\u001b[1K\u001b[K\u001b[1A\u001b[1K\u001b[K\u001b[8A\u001b[1K\u001b[K\u001b[8A\u001b[1K\u001b[K\u001b[5A\u001b[1K\u001b[K\u001b[8A\u001b[1K\u001b[K\u001b[10A\u001b[1K\u001b[K\u001b[1A\u001b[1K\u001b[K\u001b[5A\u001b[1K\u001b[K\u001b[5A\u001b[1K\u001b[K\u001b[10A\u001b[1K\u001b[K\u001b[5A\u001b[1K\u001b[K\u001b[10A\u001b[1K\u001b[K\u001b[5A\u001b[1K\u001b[K\u001b[1A\u001b[1K\u001b[K\u001b[10A\u001b[1K\u001b[K\u001b[5A\u001b[1K\u001b[K\u001b[10A\u001b[1K\u001b[K\u001b[5A\u001b[1K\u001b[K\u001b[8A\u001b[1K\u001b[K\u001b[5A\u001b[1K\u001b[K\u001b[8A\u001b[1K\u001b[K\u001b[10A\u001b[1K\u001b[K\u001b[8A\u001b[1K\u001b[K\u001b[10A\u001b[1K\u001b[K\u001b[5A\u001b[1K\u001b[K\u001b[10A\u001b[1K\u001b[K\u001b[5A\u001b[1K\u001b[K\u001b[10A\u001b[1K\u001b[K\u001b[5A\u001b[1K\u001b[K\u001b[10A\u001b[1K\u001b[K\u001b[5A\u001b[1K\u001b[K\u001b[8A\u001b[1K\u001b[K\u001b[5A\u001b[1K\u001b[K\u001b[10A\u001b[1K\u001b[K\u001b[10A\u001b[1K\u001b[K\u001b[8A\u001b[1K\u001b[K\u001b[8A\u001b[1K\u001b[K\u001b[8A\u001b[1K\u001b[K\u001b[5A\u001b[1K\u001b[K\u001b[8A\u001b[1K\u001b[K\u001b[10A\u001b[1K\u001b[K\u001b[8A\u001b[1K\u001b[K\u001b[10A\u001b[1K\u001b[K\u001b[5A\u001b[1K\u001b[K\u001b[10A\u001b[1K\u001b[K\u001b[5A\u001b[1K\u001b[K\u001b[10A\u001b[1K\u001b[K\u001b[5A\u001b[1K\u001b[K\u001b[5A\u001b[1K\u001b[K\u001b[10A\u001b[1K\u001b[K\u001b[5A\u001b[1K\u001b[K\u001b[10A\u001b[1K\u001b[K\u001b[5A\u001b[1K\u001b[K\u001b[10A\u001b[1K\u001b[K\u001b[8A\u001b[1K\u001b[K\u001b[10A\u001b[1K\u001b[K\u001b[8A\u001b[1K\u001b[K\u001b[10A\u001b[1K\u001b[K\u001b[5A\u001b[1K\u001b[K\u001b[10A\u001b[1K\u001b[K\u001b[8A\u001b[1K\u001b[K\u001b[10A\u001b[1K\u001b[K\u001b[5A\u001b[1K\u001b[K\u001b[10A\u001b[1K\u001b[K\u001b[5A\u001b[1K\u001b[K\u001b[10A\u001b[1K\u001b[K\u001b[5A\u001b[1K\u001b[K\u001b[10A\u001b[1K\u001b[K\u001b[8A\u001b[1K\u001b[K\u001b[10A\u001b[1K\u001b[K\u001b[8A\u001b[1K\u001b[K\u001b[10A\u001b[1K\u001b[K\u001b[8A\u001b[1K\u001b[K\u001b[10A\u001b[1K\u001b[K\u001b[8A\u001b[1K\u001b[K\u001b[8A\u001b[1K\u001b[K\u001b[5A\u001b[1K\u001b[K\u001b[8A\u001b[1K\u001b[K\u001b[8A\u001b[1K\u001b[K\u001b[10A\u001b[1K\u001b[K\u001b[10A\u001b[1K\u001b[K\u001b[8A\u001b[1K\u001b[K\u001b[5A\u001b[1K\u001b[K\u001b[5A\u001b[1K\u001b[KPushing  221.4MB/494.8MB\u001b[5A\u001b[1K\u001b[K\u001b[8A\u001b[1K\u001b[K\u001b[5A\u001b[1K\u001b[K\u001b[10A\u001b[1K\u001b[K\u001b[5A\u001b[1K\u001b[K\u001b[10A\u001b[1K\u001b[K\u001b[5A\u001b[1K\u001b[K\u001b[8A\u001b[1K\u001b[K\u001b[5A\u001b[1K\u001b[K\u001b[10A\u001b[1K\u001b[K\u001b[5A\u001b[1K\u001b[K\u001b[10A\u001b[1K\u001b[K\u001b[8A\u001b[1K\u001b[K\u001b[10A\u001b[1K\u001b[K\u001b[10A\u001b[1K\u001b[K\u001b[5A\u001b[1K\u001b[K\u001b[5A\u001b[1K\u001b[K\u001b[8A\u001b[1K\u001b[K\u001b[5A\u001b[1K\u001b[K\u001b[5A\u001b[1K\u001b[K\u001b[8A\u001b[1K\u001b[K\u001b[5A\u001b[1K\u001b[K\u001b[10A\u001b[1K\u001b[K\u001b[5A\u001b[1K\u001b[K\u001b[10A\u001b[1K\u001b[K\u001b[8A\u001b[1K\u001b[K\u001b[10A\u001b[1K\u001b[K\u001b[5A\u001b[1K\u001b[K\u001b[10A\u001b[1K\u001b[K\u001b[8A\u001b[1K\u001b[K\u001b[10A\u001b[1K\u001b[K\u001b[5A\u001b[1K\u001b[K\u001b[10A\u001b[1K\u001b[K\u001b[8A\u001b[1K\u001b[K\u001b[10A\u001b[1K\u001b[K\u001b[8A\u001b[1K\u001b[K\u001b[10A\u001b[1K\u001b[K\u001b[5A\u001b[1K\u001b[K\u001b[10A\u001b[1K\u001b[K\u001b[5A\u001b[1K\u001b[K\u001b[10A\u001b[1K\u001b[K\u001b[5A\u001b[1K\u001b[K\u001b[10A\u001b[1K\u001b[K\u001b[10A\u001b[1K\u001b[K\u001b[10A\u001b[1K\u001b[K\u001b[10A\u001b[1K\u001b[K\u001b[10A\u001b[1K\u001b[K\u001b[10A\u001b[1K\u001b[K\u001b[5A\u001b[1K\u001b[K\u001b[10A\u001b[1K\u001b[K\u001b[5A\u001b[1K\u001b[K\u001b[10A\u001b[1K\u001b[K\u001b[5A\u001b[1K\u001b[K\u001b[5A\u001b[1K\u001b[K\u001b[5A\u001b[1K\u001b[K\u001b[5A\u001b[1K\u001b[K\u001b[10A\u001b[1K\u001b[K\u001b[5A\u001b[1K\u001b[K\u001b[10A\u001b[1K\u001b[K\u001b[5A\u001b[1K\u001b[K\u001b[10A\u001b[1K\u001b[K\u001b[5A\u001b[1K\u001b[K\u001b[10A\u001b[1K\u001b[K\u001b[5A\u001b[1K\u001b[K\u001b[10A\u001b[1K\u001b[K\u001b[5A\u001b[1K\u001b[K\u001b[10A\u001b[1K\u001b[K\u001b[5A\u001b[1K\u001b[K\u001b[5A\u001b[1K\u001b[K\u001b[5A\u001b[1K\u001b[K\u001b[10A\u001b[1K\u001b[K\u001b[5A\u001b[1K\u001b[K\u001b[10A\u001b[1K\u001b[K\u001b[5A\u001b[1K\u001b[K\u001b[10A\u001b[1K\u001b[K\u001b[5A\u001b[1K\u001b[K\u001b[10A\u001b[1K\u001b[K\u001b[5A\u001b[1K\u001b[K\u001b[10A\u001b[1K\u001b[K\u001b[5A\u001b[1K\u001b[K\u001b[10A\u001b[1K\u001b[K\u001b[10A\u001b[1K\u001b[K\u001b[5A\u001b[1K\u001b[K\u001b[10A\u001b[1K\u001b[K\u001b[5A\u001b[1K\u001b[K\u001b[10A\u001b[1K\u001b[K\u001b[10A\u001b[1K\u001b[K\u001b[10A\u001b[1K\u001b[K\u001b[5A\u001b[1K\u001b[K\u001b[10A\u001b[1K\u001b[K\u001b[5A\u001b[1K\u001b[K\u001b[10A\u001b[1K\u001b[K\u001b[5A\u001b[1K\u001b[K\u001b[10A\u001b[1K\u001b[K\u001b[5A\u001b[1K\u001b[K\u001b[10A\u001b[1K\u001b[K\u001b[5A\u001b[1K\u001b[K\u001b[10A\u001b[1K\u001b[K\u001b[10A\u001b[1K\u001b[K\u001b[10A\u001b[1K\u001b[K\u001b[5A\u001b[1K\u001b[K\u001b[10A\u001b[1K\u001b[K\u001b[10A\u001b[1K\u001b[K\u001b[5A\u001b[1K\u001b[K\u001b[10A\u001b[1K\u001b[K\u001b[5A\u001b[1K\u001b[K\u001b[5A\u001b[1K\u001b[K\u001b[5A\u001b[1K\u001b[K\u001b[5A\u001b[1K\u001b[K\u001b[5A\u001b[1K\u001b[K\u001b[10A\u001b[1K\u001b[K\u001b[5A\u001b[1K\u001b[KPushing  392.6MB/494.8MB\u001b[5A\u001b[1K\u001b[K\u001b[5A\u001b[1K\u001b[K\u001b[10A\u001b[1K\u001b[K\u001b[5A\u001b[1K\u001b[K\u001b[10A\u001b[1K\u001b[K\u001b[5A\u001b[1K\u001b[K\u001b[10A\u001b[1K\u001b[K\u001b[5A\u001b[1K\u001b[K\u001b[10A\u001b[1K\u001b[K\u001b[5A\u001b[1K\u001b[K\u001b[10A\u001b[1K\u001b[K\u001b[5A\u001b[1K\u001b[K\u001b[10A\u001b[1K\u001b[K\u001b[5A\u001b[1K\u001b[K\u001b[10A\u001b[1K\u001b[K\u001b[5A\u001b[1K\u001b[K\u001b[10A\u001b[1K\u001b[K\u001b[5A\u001b[1K\u001b[K\u001b[10A\u001b[1K\u001b[K\u001b[5A\u001b[1K\u001b[K\u001b[10A\u001b[1K\u001b[K\u001b[10A\u001b[1K\u001b[K\u001b[5A\u001b[1K\u001b[K\u001b[10A\u001b[1K\u001b[K\u001b[10A\u001b[1K\u001b[K\u001b[10A\u001b[1K\u001b[K\u001b[10A\u001b[1K\u001b[K\u001b[5A\u001b[1K\u001b[K\u001b[10A\u001b[1K\u001b[K\u001b[5A\u001b[1K\u001b[K\u001b[5A\u001b[1K\u001b[KPushing    433MB/494.8MB\u001b[5A\u001b[1K\u001b[K\u001b[5A\u001b[1K\u001b[K\u001b[5A\u001b[1K\u001b[K\u001b[5A\u001b[1K\u001b[K\u001b[5A\u001b[1K\u001b[K\u001b[10A\u001b[1K\u001b[K\u001b[5A\u001b[1K\u001b[K\u001b[5A\u001b[1K\u001b[K\u001b[5A\u001b[1K\u001b[K\u001b[5A\u001b[1K\u001b[K\u001b[5A\u001b[1K\u001b[K\u001b[5A\u001b[1K\u001b[K\u001b[5A\u001b[1K\u001b[K\u001b[5A\u001b[1K\u001b[K\u001b[5A\u001b[1K\u001b[K\u001b[5A\u001b[1K\u001b[K\u001b[5A\u001b[1K\u001b[K\u001b[5A\u001b[1K\u001b[K\u001b[5A\u001b[1K\u001b[K\u001b[5A\u001b[1K\u001b[K\u001b[5A\u001b[1K\u001b[K\u001b[5A\u001b[1K\u001b[K\u001b[5A\u001b[1K\u001b[K\u001b[5A\u001b[1K\u001b[K\u001b[5A\u001b[1K\u001b[K\u001b[5A\u001b[1K\u001b[K\u001b[5A\u001b[1K\u001b[K\u001b[5A\u001b[1K\u001b[K\u001b[5A\u001b[1K\u001b[K\u001b[5A\u001b[1K\u001b[K\u001b[5A\u001b[1K\u001b[K\u001b[5A\u001b[1K\u001b[K\u001b[5A\u001b[1K\u001b[K\u001b[5A\u001b[1K\u001b[K\u001b[5A\u001b[1K\u001b[K\u001b[5A\u001b[1K\u001b[Klatest: digest: sha256:2918580c1c04eb159bebc25b8eeb57100453cd9e4916fe97ef1af600f5f8920e size: 3448\n",
      "497456752804.dkr.ecr.us-east-1.amazonaws.com/ezsmdeploy-image-test\n",
      "SUCCESS\n"
     ]
    }
   ],
   "source": [
    "!./src/build-docker.sh test"
   ]
  },
  {
   "cell_type": "code",
   "execution_count": 34,
   "metadata": {},
   "outputs": [
    {
     "name": "stdout",
     "output_type": "stream",
     "text": [
      "Name: sagemaker\r\n",
      "Version: 1.60.2\r\n",
      "Summary: Open source library for training and deploying models on Amazon SageMaker.\r\n",
      "Home-page: https://github.com/aws/sagemaker-python-sdk/\r\n",
      "Author: Amazon Web Services\r\n",
      "Author-email: None\r\n",
      "License: Apache License 2.0\r\n",
      "Location: /home/ec2-user/anaconda3/envs/python3/lib/python3.6/site-packages\r\n",
      "Requires: importlib-metadata, protobuf, numpy, smdebug-rulesconfig, boto3, packaging, scipy, protobuf3-to-dict\r\n",
      "Required-by: ezsmdeploy\r\n"
     ]
    }
   ],
   "source": [
    "!pip show sagemaker"
   ]
  },
  {
   "cell_type": "code",
   "execution_count": 35,
   "metadata": {},
   "outputs": [
    {
     "data": {
      "text/plain": [
       "'[8]'"
      ]
     },
     "execution_count": 35,
     "metadata": {},
     "output_type": "execute_result"
    }
   ],
   "source": [
    "out = ezonsm.predictor.predict(digits.data[-1:].tobytes(),target_model='model1.tar.gz').decode() \n",
    "out"
   ]
  },
  {
   "cell_type": "code",
   "execution_count": null,
   "metadata": {},
   "outputs": [],
   "source": [
    "ezonsm.test(input_data=digits.data[-1:].tobytes(), target_model='model1.tar.gz',usercount=20,hatchrate=10,timeoutsecs=10)"
   ]
  },
  {
   "cell_type": "code",
   "execution_count": null,
   "metadata": {},
   "outputs": [],
   "source": [
    "import pandas as pd\n",
    "\n",
    "pd.read_csv('src/locuststats_stats.csv')"
   ]
  },
  {
   "cell_type": "code",
   "execution_count": null,
   "metadata": {},
   "outputs": [],
   "source": [
    "ezonsm.predictor.delete_endpoint()"
   ]
  }
 ],
 "metadata": {
  "kernelspec": {
   "display_name": "conda_python3",
   "language": "python",
   "name": "conda_python3"
  },
  "language_info": {
   "codemirror_mode": {
    "name": "ipython",
    "version": 3
   },
   "file_extension": ".py",
   "mimetype": "text/x-python",
   "name": "python",
   "nbconvert_exporter": "python",
   "pygments_lexer": "ipython3",
   "version": "3.6.5"
  }
 },
 "nbformat": 4,
 "nbformat_minor": 4
}
