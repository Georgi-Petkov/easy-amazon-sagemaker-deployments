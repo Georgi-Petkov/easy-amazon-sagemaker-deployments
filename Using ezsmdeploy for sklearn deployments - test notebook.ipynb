{
 "cells": [
  {
   "cell_type": "markdown",
   "metadata": {},
   "source": [
    "## Train a model locally or remote"
   ]
  },
  {
   "cell_type": "code",
   "execution_count": 1,
   "metadata": {},
   "outputs": [
    {
     "data": {
      "text/plain": [
       "array([8])"
      ]
     },
     "execution_count": 1,
     "metadata": {},
     "output_type": "execute_result"
    }
   ],
   "source": [
    "from sklearn import datasets, svm\n",
    "digits = datasets.load_digits()\n",
    "clf = svm.SVC(gamma=0.001, C=100.,probability=True)\n",
    "clf.fit(digits.data[:-1], digits.target[:-1])\n",
    "clf.predict(digits.data[-1:])"
   ]
  },
  {
   "cell_type": "code",
   "execution_count": 2,
   "metadata": {},
   "outputs": [
    {
     "name": "stdout",
     "output_type": "stream",
     "text": [
      "Name: scikit-learn\r\n",
      "Version: 0.22.1\r\n",
      "Summary: A set of python modules for machine learning and data mining\r\n",
      "Home-page: http://scikit-learn.org\r\n",
      "Author: None\r\n",
      "Author-email: None\r\n",
      "License: new BSD\r\n",
      "Location: /home/ec2-user/anaconda3/envs/python3/lib/python3.6/site-packages\r\n",
      "Requires: joblib, scipy, numpy\r\n",
      "Required-by: \r\n"
     ]
    }
   ],
   "source": [
    "!pip show scikit-learn"
   ]
  },
  {
   "cell_type": "markdown",
   "metadata": {},
   "source": [
    "### Save model file"
   ]
  },
  {
   "cell_type": "code",
   "execution_count": 3,
   "metadata": {},
   "outputs": [
    {
     "name": "stdout",
     "output_type": "stream",
     "text": [
      "Requirement already satisfied: joblib in /home/ec2-user/anaconda3/envs/python3/lib/python3.6/site-packages (0.14.1)\n",
      "\u001b[33mWARNING: You are using pip version 20.0.2; however, version 20.2.4 is available.\n",
      "You should consider upgrading via the '/home/ec2-user/anaconda3/envs/python3/bin/python -m pip install --upgrade pip' command.\u001b[0m\n"
     ]
    },
    {
     "data": {
      "text/plain": [
       "['model.joblib']"
      ]
     },
     "execution_count": 3,
     "metadata": {},
     "output_type": "execute_result"
    }
   ],
   "source": [
    "!pip install joblib\n",
    "from joblib import dump\n",
    "dump(clf, 'model.joblib')"
   ]
  },
  {
   "cell_type": "markdown",
   "metadata": {},
   "source": [
    "## Step 1 : Write a model transform script\n",
    "\n",
    "#### Make sure you have a ...\n",
    "\n",
    "- \"load_model\" function\n",
    "    - input args are model path\n",
    "    - returns loaded model object\n",
    "    - model name is the same as what you saved the model file as (see above step)\n",
    "<br><br>\n",
    "- \"predict\" function\n",
    "    - input args are the loaded model object and a payload\n",
    "    - returns the result of model.predict\n",
    "    - make sure you format it as a single (or multiple) string return inside a list for real time (for mini batch)\n",
    "    - from a client, a list  or string or np.array that is sent for prediction is interpreted as bytes. Do what you have to for converting back to list or string or np.array\n",
    "    - return the error for debugging\n"
   ]
  },
  {
   "cell_type": "code",
   "execution_count": 4,
   "metadata": {},
   "outputs": [
    {
     "name": "stdout",
     "output_type": "stream",
     "text": [
      "Overwriting modelscript_sklearn.py\n"
     ]
    }
   ],
   "source": [
    "%%writefile modelscript_sklearn.py\n",
    "import sklearn\n",
    "from joblib import load\n",
    "import numpy as np\n",
    "import os\n",
    "\n",
    "#Return loaded model\n",
    "def load_model(modelpath):\n",
    "    print(modelpath)\n",
    "    clf = load(os.path.join(modelpath,'model.joblib'))\n",
    "    print(\"loaded\")\n",
    "    return clf\n",
    "\n",
    "# return prediction based on loaded model (from the step above) and an input payload\n",
    "def predict(model, payload):\n",
    "    try:\n",
    "        # locally, payload may come in as an np.ndarray\n",
    "        if type(payload)==np.ndarray:\n",
    "            out = [str(model.predict(np.frombuffer(payload).reshape((1,64))))]\n",
    "        # in remote / container based deployment, payload comes in as a stream of bytes\n",
    "        else:\n",
    "            out = [str(model.predict(np.frombuffer(payload[0]['body']).reshape((1,64))))]\n",
    "    except Exception as e:\n",
    "        out = [type(payload),str(e)] #useful for debugging!\n",
    "    \n",
    "    return out"
   ]
  },
  {
   "cell_type": "markdown",
   "metadata": {},
   "source": [
    "## Does this work locally? (not \"_in a container locally_\", but _actually_ in local)"
   ]
  },
  {
   "cell_type": "code",
   "execution_count": 5,
   "metadata": {},
   "outputs": [
    {
     "name": "stdout",
     "output_type": "stream",
     "text": [
      ".\n",
      "loaded\n"
     ]
    }
   ],
   "source": [
    "from modelscript_sklearn import *\n",
    "model = load_model('.')"
   ]
  },
  {
   "cell_type": "code",
   "execution_count": 6,
   "metadata": {},
   "outputs": [
    {
     "data": {
      "text/plain": [
       "'[8]'"
      ]
     },
     "execution_count": 6,
     "metadata": {},
     "output_type": "execute_result"
    }
   ],
   "source": [
    "predict(model,digits.data[-1:])[0]"
   ]
  },
  {
   "cell_type": "markdown",
   "metadata": {},
   "source": [
    "### ok great! Now let's install ezsmdeploy\n",
    "In some cases, installs fail due to an existing package installed called greenlet.\n",
    "This is not a direct dependency of ezsmdeploy but interferes with the installation. \n",
    "To fix this, either install in a virtualenv as seen above, or do:\n",
    "pip install ezsmdeploy[locust] --ignore-installed greenlet"
   ]
  },
  {
   "cell_type": "code",
   "execution_count": 7,
   "metadata": {},
   "outputs": [
    {
     "name": "stdout",
     "output_type": "stream",
     "text": [
      "build\t\t     model.joblib\r\n",
      "dist\t\t     modelscript_sklearn.py\r\n",
      "downloads\t     notebooks\r\n",
      "env\t\t     __pycache__\r\n",
      "extractedmodel\t     README.rst\r\n",
      "ezsmdeploy\t     setup.py\r\n",
      "ezsmdeploy.egg-info  src\r\n",
      "model1.tar.gz\t     Using ezsmdeploy for sklearn deployments (1).ipynb\r\n",
      "model2.tar.gz\r\n"
     ]
    }
   ],
   "source": [
    "!ls"
   ]
  },
  {
   "cell_type": "code",
   "execution_count": 8,
   "metadata": {},
   "outputs": [
    {
     "name": "stdout",
     "output_type": "stream",
     "text": [
      "Found existing installation: ezsmdeploy 1.0.0\n",
      "Uninstalling ezsmdeploy-1.0.0:\n",
      "  Successfully uninstalled ezsmdeploy-1.0.0\n"
     ]
    }
   ],
   "source": [
    "!pip uninstall ezsmdeploy -y"
   ]
  },
  {
   "cell_type": "code",
   "execution_count": 9,
   "metadata": {},
   "outputs": [
    {
     "name": "stdout",
     "output_type": "stream",
     "text": [
      "Obtaining file:///home/ec2-user/SageMaker/easy-amazon-sagemaker-deployments\n",
      "Requirement already satisfied: sagemaker==2.16.1 in /home/ec2-user/anaconda3/envs/python3/lib/python3.6/site-packages (from ezsmdeploy==1.0.0) (2.16.1)\n",
      "Requirement already satisfied: yaspin==0.16.0 in /home/ec2-user/anaconda3/envs/python3/lib/python3.6/site-packages (from ezsmdeploy==1.0.0) (0.16.0)\n",
      "Requirement already satisfied: shortuuid==1.0.1 in /home/ec2-user/anaconda3/envs/python3/lib/python3.6/site-packages (from ezsmdeploy==1.0.0) (1.0.1)\n",
      "Requirement already satisfied: sagemaker-studio-image-build==0.3.1 in /home/ec2-user/anaconda3/envs/python3/lib/python3.6/site-packages (from ezsmdeploy==1.0.0) (0.3.1)\n",
      "Requirement already satisfied: boto3>=1.14.12 in /home/ec2-user/anaconda3/envs/python3/lib/python3.6/site-packages (from ezsmdeploy==1.0.0) (1.15.16)\n",
      "Requirement already satisfied: packaging>=20.0 in /home/ec2-user/anaconda3/envs/python3/lib/python3.6/site-packages (from sagemaker==2.16.1->ezsmdeploy==1.0.0) (20.1)\n",
      "Requirement already satisfied: google-pasta in /home/ec2-user/anaconda3/envs/python3/lib/python3.6/site-packages (from sagemaker==2.16.1->ezsmdeploy==1.0.0) (0.2.0)\n",
      "Requirement already satisfied: numpy>=1.9.0 in /home/ec2-user/anaconda3/envs/python3/lib/python3.6/site-packages (from sagemaker==2.16.1->ezsmdeploy==1.0.0) (1.18.1)\n",
      "Requirement already satisfied: importlib-metadata>=1.4.0 in /home/ec2-user/anaconda3/envs/python3/lib/python3.6/site-packages (from sagemaker==2.16.1->ezsmdeploy==1.0.0) (1.5.0)\n",
      "Requirement already satisfied: smdebug-rulesconfig==0.1.5 in /home/ec2-user/anaconda3/envs/python3/lib/python3.6/site-packages (from sagemaker==2.16.1->ezsmdeploy==1.0.0) (0.1.5)\n",
      "Requirement already satisfied: protobuf3-to-dict>=0.1.5 in /home/ec2-user/anaconda3/envs/python3/lib/python3.6/site-packages (from sagemaker==2.16.1->ezsmdeploy==1.0.0) (0.1.5)\n",
      "Requirement already satisfied: protobuf>=3.1 in /home/ec2-user/anaconda3/envs/python3/lib/python3.6/site-packages (from sagemaker==2.16.1->ezsmdeploy==1.0.0) (3.11.4)\n",
      "Requirement already satisfied: jmespath<1.0.0,>=0.7.1 in /home/ec2-user/anaconda3/envs/python3/lib/python3.6/site-packages (from boto3>=1.14.12->ezsmdeploy==1.0.0) (0.10.0)\n",
      "Requirement already satisfied: s3transfer<0.4.0,>=0.3.0 in /home/ec2-user/anaconda3/envs/python3/lib/python3.6/site-packages (from boto3>=1.14.12->ezsmdeploy==1.0.0) (0.3.3)\n",
      "Requirement already satisfied: botocore<1.19.0,>=1.18.16 in /home/ec2-user/anaconda3/envs/python3/lib/python3.6/site-packages (from boto3>=1.14.12->ezsmdeploy==1.0.0) (1.18.16)\n",
      "Requirement already satisfied: six in /home/ec2-user/anaconda3/envs/python3/lib/python3.6/site-packages (from packaging>=20.0->sagemaker==2.16.1->ezsmdeploy==1.0.0) (1.14.0)\n",
      "Requirement already satisfied: pyparsing>=2.0.2 in /home/ec2-user/anaconda3/envs/python3/lib/python3.6/site-packages (from packaging>=20.0->sagemaker==2.16.1->ezsmdeploy==1.0.0) (2.4.6)\n",
      "Requirement already satisfied: zipp>=0.5 in /home/ec2-user/anaconda3/envs/python3/lib/python3.6/site-packages (from importlib-metadata>=1.4.0->sagemaker==2.16.1->ezsmdeploy==1.0.0) (2.2.0)\n",
      "Requirement already satisfied: setuptools in /home/ec2-user/anaconda3/envs/python3/lib/python3.6/site-packages (from protobuf>=3.1->sagemaker==2.16.1->ezsmdeploy==1.0.0) (45.2.0.post20200210)\n",
      "Requirement already satisfied: python-dateutil<3.0.0,>=2.1 in /home/ec2-user/anaconda3/envs/python3/lib/python3.6/site-packages (from botocore<1.19.0,>=1.18.16->boto3>=1.14.12->ezsmdeploy==1.0.0) (2.8.1)\n",
      "Requirement already satisfied: urllib3<1.26,>=1.20; python_version != \"3.4\" in /home/ec2-user/anaconda3/envs/python3/lib/python3.6/site-packages (from botocore<1.19.0,>=1.18.16->boto3>=1.14.12->ezsmdeploy==1.0.0) (1.25.10)\n",
      "Installing collected packages: ezsmdeploy\n",
      "  Running setup.py develop for ezsmdeploy\n",
      "Successfully installed ezsmdeploy\n",
      "\u001b[33mWARNING: You are using pip version 20.0.2; however, version 20.2.4 is available.\n",
      "You should consider upgrading via the '/home/ec2-user/anaconda3/envs/python3/bin/python -m pip install --upgrade pip' command.\u001b[0m\n"
     ]
    }
   ],
   "source": [
    "!pip install -e ."
   ]
  },
  {
   "cell_type": "code",
   "execution_count": 10,
   "metadata": {},
   "outputs": [],
   "source": [
    "import ezsmdeploy"
   ]
  },
  {
   "cell_type": "markdown",
   "metadata": {},
   "source": [
    "#### If you have been running other inference containers in local mode, stop existing containers to avoid conflict"
   ]
  },
  {
   "cell_type": "code",
   "execution_count": 11,
   "metadata": {},
   "outputs": [
    {
     "name": "stdout",
     "output_type": "stream",
     "text": [
      "\"docker container stop\" requires at least 1 argument.\r\n",
      "See 'docker container stop --help'.\r\n",
      "\r\n",
      "Usage:  docker container stop [OPTIONS] CONTAINER [CONTAINER...]\r\n",
      "\r\n",
      "Stop one or more running containers\r\n"
     ]
    }
   ],
   "source": [
    "!docker container stop $(docker container ls -aq) >/dev/null"
   ]
  },
  {
   "cell_type": "markdown",
   "metadata": {},
   "source": [
    "## Deploy locally"
   ]
  },
  {
   "cell_type": "code",
   "execution_count": 12,
   "metadata": {},
   "outputs": [],
   "source": [
    "!rm -r src -f"
   ]
  },
  {
   "cell_type": "code",
   "execution_count": null,
   "metadata": {},
   "outputs": [],
   "source": [
    "import subprocess\n",
    "cmd = \"chmod +x src/build-docker.sh  & sudo ./src/build-docker.sh {}\"\n",
    "        \n",
    "with open('src/dockeroutput.txt', 'w') as f:\n",
    "    p = subprocess.Popen(cmd.format(\"name\"), stdout=f, shell=True)"
   ]
  },
  {
   "cell_type": "code",
   "execution_count": null,
   "metadata": {},
   "outputs": [],
   "source": [
    "!cat src/dockeroutput.txt"
   ]
  },
  {
   "cell_type": "code",
   "execution_count": 13,
   "metadata": {},
   "outputs": [
    {
     "name": "stdout",
     "output_type": "stream",
     "text": [
      "\u001b[K0:00:00.214773 | compressed model(s)\n",
      "\u001b[K0:00:00.326441 | uploaded model tarball(s) ; check returned modelpath\n",
      "\u001b[K0:00:00.327276 | added requirements file\n",
      "\u001b[K0:00:00.333171 | added source file\n",
      "\u001b[K0:00:00.334490 | added Dockerfile\n",
      "\u001b[K0:00:00.336207 | added model_handler and docker utils\n",
      "\u001b[K0:00:00.336305 | building docker container\n",
      "Start process\n",
      "process running in background\n",
      "\u001b[K0:01:11.912387 | built docker container\n",
      "\u001b[K2m∙∙●\u001b[0m \u001b[K"
     ]
    },
    {
     "name": "stderr",
     "output_type": "stream",
     "text": [
      "update_endpoint is a no-op in sagemaker>=2.\n",
      "See: https://sagemaker.readthedocs.io/en/stable/v2.html for details.\n"
     ]
    },
    {
     "name": "stdout",
     "output_type": "stream",
     "text": [
      "\u001b[K0:01:14.316513 | created model(s). Now deploying on local\n",
      "\u001b[32m∙●∙\u001b[0m \u001b[KAttaching to tmp1qpaqven_algo-1-8x2kh_1\n",
      "\u001b[36malgo-1-8x2kh_1  |\u001b[0m 2020-10-31 12:30:10,704 [INFO ] main com.amazonaws.ml.mms.ModelServer - \n",
      "\u001b[36malgo-1-8x2kh_1  |\u001b[0m MMS Home: /usr/local/lib/python3.5/dist-packages\n",
      "\u001b[36malgo-1-8x2kh_1  |\u001b[0m Current directory: /\n",
      "\u001b[36malgo-1-8x2kh_1  |\u001b[0m Temp directory: /tmp\n",
      "\u001b[36malgo-1-8x2kh_1  |\u001b[0m Number of GPUs: 0\n",
      "\u001b[36malgo-1-8x2kh_1  |\u001b[0m Number of CPUs: 2\n",
      "\u001b[36malgo-1-8x2kh_1  |\u001b[0m Max heap size: 864 M\n",
      "\u001b[36malgo-1-8x2kh_1  |\u001b[0m Python executable: /usr/bin/python3\n",
      "\u001b[36malgo-1-8x2kh_1  |\u001b[0m Config file: /etc/sagemaker-mms.properties\n",
      "\u001b[36malgo-1-8x2kh_1  |\u001b[0m Inference address: http://0.0.0.0:8080\n",
      "\u001b[36malgo-1-8x2kh_1  |\u001b[0m Management address: http://0.0.0.0:8080\n",
      "\u001b[36malgo-1-8x2kh_1  |\u001b[0m Model Store: /.sagemaker/mms/models\n",
      "\u001b[36malgo-1-8x2kh_1  |\u001b[0m Initial Models: ALL\n",
      "\u001b[36malgo-1-8x2kh_1  |\u001b[0m Log dir: /logs\n",
      "\u001b[36malgo-1-8x2kh_1  |\u001b[0m Metrics dir: /logs\n",
      "\u001b[36malgo-1-8x2kh_1  |\u001b[0m Netty threads: 0\n",
      "\u001b[36malgo-1-8x2kh_1  |\u001b[0m Netty client threads: 0\n",
      "\u001b[36malgo-1-8x2kh_1  |\u001b[0m Default workers per model: 2\n",
      "\u001b[36malgo-1-8x2kh_1  |\u001b[0m Blacklist Regex: N/A\n",
      "\u001b[36malgo-1-8x2kh_1  |\u001b[0m Maximum Response Size: 6553500\n",
      "\u001b[36malgo-1-8x2kh_1  |\u001b[0m Maximum Request Size: 6553500\n",
      "\u001b[36malgo-1-8x2kh_1  |\u001b[0m Preload model: false\n",
      "\u001b[36malgo-1-8x2kh_1  |\u001b[0m Prefer direct buffer: false\n",
      "\u001b[32m∙∙●\u001b[0m \u001b[K\u001b[36malgo-1-8x2kh_1  |\u001b[0m 2020-10-31 12:30:10,817 [WARN ] W-9000-model com.amazonaws.ml.mms.wlm.WorkerLifeCycle - attachIOStreams() threadName=W-9000-model\n",
      "\u001b[32m∙∙∙\u001b[0m \u001b[K\u001b[36malgo-1-8x2kh_1  |\u001b[0m 2020-10-31 12:30:10,933 [INFO ] W-9000-model-stdout com.amazonaws.ml.mms.wlm.WorkerLifeCycle - model_service_worker started with args: --sock-type unix --sock-name /tmp/.mms.sock.9000 --handler /home/model-server/model_handler.py:handle --model-path /.sagemaker/mms/models/model --model-name model --preload-model false --tmp-dir /tmp\n",
      "\u001b[36malgo-1-8x2kh_1  |\u001b[0m 2020-10-31 12:30:10,934 [INFO ] W-9000-model-stdout com.amazonaws.ml.mms.wlm.WorkerLifeCycle - Listening on port: /tmp/.mms.sock.9000\n",
      "\u001b[36malgo-1-8x2kh_1  |\u001b[0m 2020-10-31 12:30:10,935 [INFO ] W-9000-model-stdout com.amazonaws.ml.mms.wlm.WorkerLifeCycle - [PID] 23\n",
      "\u001b[36malgo-1-8x2kh_1  |\u001b[0m 2020-10-31 12:30:10,935 [INFO ] W-9000-model-stdout com.amazonaws.ml.mms.wlm.WorkerLifeCycle - MMS worker started.\n",
      "\u001b[36malgo-1-8x2kh_1  |\u001b[0m 2020-10-31 12:30:10,936 [INFO ] W-9000-model-stdout com.amazonaws.ml.mms.wlm.WorkerLifeCycle - Python runtime: 3.5.2\n",
      "\u001b[36malgo-1-8x2kh_1  |\u001b[0m 2020-10-31 12:30:10,936 [INFO ] main com.amazonaws.ml.mms.wlm.ModelManager - Model model loaded.\n",
      "\u001b[36malgo-1-8x2kh_1  |\u001b[0m 2020-10-31 12:30:10,941 [INFO ] main com.amazonaws.ml.mms.ModelServer - Initialize Inference server with: EpollServerSocketChannel.\n",
      "\u001b[36malgo-1-8x2kh_1  |\u001b[0m 2020-10-31 12:30:10,953 [INFO ] W-9000-model com.amazonaws.ml.mms.wlm.WorkerThread - Connecting to: /tmp/.mms.sock.9000\n",
      "\u001b[36malgo-1-8x2kh_1  |\u001b[0m 2020-10-31 12:30:10,956 [INFO ] W-9000-model com.amazonaws.ml.mms.wlm.WorkerThread - Connecting to: /tmp/.mms.sock.9000\n",
      "\u001b[32m∙∙∙\u001b[0m \u001b[K\u001b[36malgo-1-8x2kh_1  |\u001b[0m 2020-10-31 12:30:11,037 [INFO ] main com.amazonaws.ml.mms.ModelServer - Inference API bind to: http://0.0.0.0:8080\n",
      "\u001b[36malgo-1-8x2kh_1  |\u001b[0m Model server started.\n",
      "\u001b[36malgo-1-8x2kh_1  |\u001b[0m 2020-10-31 12:30:11,057 [INFO ] W-9000-model-stdout com.amazonaws.ml.mms.wlm.WorkerLifeCycle - Connection accepted: /tmp/.mms.sock.9000.\n",
      "\u001b[36malgo-1-8x2kh_1  |\u001b[0m 2020-10-31 12:30:11,060 [INFO ] W-9000-model-stdout com.amazonaws.ml.mms.wlm.WorkerLifeCycle - Connection accepted: /tmp/.mms.sock.9000.\n",
      "\u001b[36malgo-1-8x2kh_1  |\u001b[0m 2020-10-31 12:30:11,057 [WARN ] pool-2-thread-1 com.amazonaws.ml.mms.metrics.MetricCollector - worker pid is not available yet.\n",
      "\u001b[32m●∙∙\u001b[0m \u001b[K\u001b[36malgo-1-8x2kh_1  |\u001b[0m 2020-10-31 12:30:11,839 [INFO ] W-9000-model-stdout com.amazonaws.ml.mms.wlm.WorkerLifeCycle - /.sagemaker/mms/models/model\n",
      "\u001b[36malgo-1-8x2kh_1  |\u001b[0m 2020-10-31 12:30:11,839 [INFO ] W-9000-model-stdout com.amazonaws.ml.mms.wlm.WorkerLifeCycle - loaded\n",
      "\u001b[36malgo-1-8x2kh_1  |\u001b[0m 2020-10-31 12:30:11,839 [INFO ] W-9000-model-stdout com.amazonaws.ml.mms.wlm.WorkerLifeCycle - loaded model!\n",
      "\u001b[36malgo-1-8x2kh_1  |\u001b[0m 2020-10-31 12:30:11,839 [INFO ] W-9000-model-stdout com.amazonaws.ml.mms.wlm.WorkerLifeCycle - Model model loaded io_fd=0242acfffe130002-00000009-00000002-5646873764b3f818-155342cd\n",
      "\u001b[36malgo-1-8x2kh_1  |\u001b[0m 2020-10-31 12:30:11,841 [INFO ] W-9000-model-stdout com.amazonaws.ml.mms.wlm.WorkerLifeCycle - /.sagemaker/mms/models/model\n",
      "\u001b[36malgo-1-8x2kh_1  |\u001b[0m 2020-10-31 12:30:11,841 [INFO ] W-9000-model-stdout com.amazonaws.ml.mms.wlm.WorkerLifeCycle - loaded\n",
      "\u001b[36malgo-1-8x2kh_1  |\u001b[0m 2020-10-31 12:30:11,841 [INFO ] W-9000-model-stdout com.amazonaws.ml.mms.wlm.WorkerLifeCycle - loaded model!\n",
      "\u001b[36malgo-1-8x2kh_1  |\u001b[0m 2020-10-31 12:30:11,841 [INFO ] W-9000-model-stdout com.amazonaws.ml.mms.wlm.WorkerLifeCycle - Model model loaded io_fd=0242acfffe130002-00000009-00000001-2281fb3764b3f818-a917af26\n",
      "\u001b[36malgo-1-8x2kh_1  |\u001b[0m 2020-10-31 12:30:11,854 [INFO ] W-9000-model com.amazonaws.ml.mms.wlm.WorkerThread - Backend response time: 697\n",
      "\u001b[36malgo-1-8x2kh_1  |\u001b[0m 2020-10-31 12:30:11,855 [INFO ] W-9000-model com.amazonaws.ml.mms.wlm.WorkerThread - Backend response time: 696\n",
      "\u001b[36malgo-1-8x2kh_1  |\u001b[0m 2020-10-31 12:30:11,857 [WARN ] W-9000-model com.amazonaws.ml.mms.wlm.WorkerLifeCycle - attachIOStreams() threadName=W-model-1\n",
      "\u001b[36malgo-1-8x2kh_1  |\u001b[0m 2020-10-31 12:30:11,858 [WARN ] W-9000-model com.amazonaws.ml.mms.wlm.WorkerLifeCycle - attachIOStreams() threadName=W-model-2\n",
      "\u001b[32m●∙∙\u001b[0m \u001b[K\u001b[36malgo-1-8x2kh_1  |\u001b[0m 2020-10-31 12:30:13,012 [INFO ] pool-1-thread-4 ACCESS_LOG - /172.19.0.1:47130 \"GET /ping HTTP/1.1\" 200 12\n",
      "\u001b[K0:01:21.673327 | deployed model\n",
      "\u001b[K0:01:21.676805 | not setting up autoscaling; deploying locally\n",
      "\u001b[K\u001b[32m0:01:21.676964 | Done! ✔\u001b[0m \n"
     ]
    }
   ],
   "source": [
    "ez = ezsmdeploy.Deploy(model = ['model.joblib'], # if you intend to add models later, pass model as list, otherwise str\n",
    "                  script = 'modelscript_sklearn.py',\n",
    "                  requirements = ['pyarrow','scikit-learn==0.22.1','numpy','joblib'], #or pass in the path to requirements.txt\n",
    "                  instance_type = 'local',\n",
    "                  autoscale = True,\n",
    "                  #framework = 'sklearn', # not required if you provide requirements\n",
    "                  wait = True)"
   ]
  },
  {
   "cell_type": "markdown",
   "metadata": {},
   "source": [
    "## Test containerized version locally"
   ]
  },
  {
   "cell_type": "code",
   "execution_count": null,
   "metadata": {},
   "outputs": [],
   "source": [
    "out = ez.predictor.predict(digits.data[-1:].tobytes()).decode()\n",
    "out"
   ]
  },
  {
   "cell_type": "code",
   "execution_count": null,
   "metadata": {},
   "outputs": [],
   "source": [
    "!docker container stop $(docker container ls -aq) >/dev/null"
   ]
  },
  {
   "cell_type": "markdown",
   "metadata": {},
   "source": [
    "## Deploy on SageMaker"
   ]
  },
  {
   "cell_type": "code",
   "execution_count": null,
   "metadata": {},
   "outputs": [],
   "source": [
    "ezonsm = ezsmdeploy.Deploy(model = ['model.joblib','model.joblib'], # example of multimodel endpoint. \n",
    "                  script = 'modelscript_sklearn.py',\n",
    "                  requirements = ['pyarrow','scikit-learn==0.22.1','numpy','joblib'])"
   ]
  },
  {
   "cell_type": "code",
   "execution_count": null,
   "metadata": {},
   "outputs": [],
   "source": [
    "#!./src/build-docker.sh test"
   ]
  },
  {
   "cell_type": "code",
   "execution_count": null,
   "metadata": {},
   "outputs": [],
   "source": [
    "out = ezonsm.predictor.predict(digits.data[-1:].tobytes(),target_model='model1.tar.gz').decode() \n",
    "out"
   ]
  },
  {
   "cell_type": "markdown",
   "metadata": {},
   "source": [
    "### Install the additional locust testing functionality to enable automated testing"
   ]
  },
  {
   "cell_type": "code",
   "execution_count": null,
   "metadata": {},
   "outputs": [],
   "source": [
    "!pip install ezsmdeploy[locust]"
   ]
  },
  {
   "cell_type": "code",
   "execution_count": null,
   "metadata": {},
   "outputs": [],
   "source": [
    "ezonsm.test(input_data=digits.data[-1:].tobytes(), target_model='model1.tar.gz',usercount=20,hatchrate=10,timeoutsecs=10)"
   ]
  },
  {
   "cell_type": "code",
   "execution_count": null,
   "metadata": {},
   "outputs": [],
   "source": [
    "import pandas as pd\n",
    "\n",
    "pd.read_csv('src/locuststats_stats.csv')"
   ]
  },
  {
   "cell_type": "code",
   "execution_count": null,
   "metadata": {},
   "outputs": [],
   "source": [
    "ezonsm.predictor.delete_endpoint()"
   ]
  }
 ],
 "metadata": {
  "kernelspec": {
   "display_name": "conda_python3",
   "language": "python",
   "name": "conda_python3"
  },
  "language_info": {
   "codemirror_mode": {
    "name": "ipython",
    "version": 3
   },
   "file_extension": ".py",
   "mimetype": "text/x-python",
   "name": "python",
   "nbconvert_exporter": "python",
   "pygments_lexer": "ipython3",
   "version": "3.6.10"
  }
 },
 "nbformat": 4,
 "nbformat_minor": 4
}
